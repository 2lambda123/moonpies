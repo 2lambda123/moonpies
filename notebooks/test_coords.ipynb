{
 "metadata": {
  "language_info": {
   "codemirror_mode": {
    "name": "ipython",
    "version": 3
   },
   "file_extension": ".py",
   "mimetype": "text/x-python",
   "name": "python",
   "nbconvert_exporter": "python",
   "pygments_lexer": "ipython3",
   "version": "3.8.2"
  },
  "orig_nbformat": 4,
  "kernelspec": {
   "name": "python3",
   "display_name": "Python 3.8.2 64-bit ('.venv': poetry)"
  },
  "interpreter": {
   "hash": "5ed88d2bd5c0eee6291be6f29a0414b6bec386740b5655ebc6ef0fe069cd7e37"
  }
 },
 "nbformat": 4,
 "nbformat_minor": 2,
 "cells": [
  {
   "cell_type": "code",
   "execution_count": 1,
   "metadata": {},
   "outputs": [],
   "source": [
    "import os\n",
    "os.chdir('/home/cjtu/projects/essi21/essi21')\n",
    "import numpy as np\n",
    "import pandas as pd\n",
    "import mixing as mm\n",
    "import matplotlib.pyplot as plt\n",
    "\n",
    "validation = pd.read_csv('/home/cjtu/projects/essi21/data/haworth_ejecta_thickness.csv', skiprows=7, usecols=[0, 7, 8], names=['cname', 'dist', 'thickness'])\n",
    "\n",
    "df = mm.read_crater_list()\n",
    "dist = mm.get_ejecta_distances(df)\n",
    "thickness = mm.get_ejecta_thickness(dist, df.rad.values)\n",
    "df = df.set_index('cname')\n"
   ]
  },
  {
   "cell_type": "code",
   "execution_count": 35,
   "metadata": {},
   "outputs": [],
   "source": [
    "ej = pd.read_csv('/home/cjtu/projects/essi21/data/210624/cannon00000/ej_columns_cannon00000.csv')\n",
    "haworth = ej.iloc[6:7]\n",
    "new_ej = ej[ej.Haworth !=0]\n",
    "out = pd.concat([haworth, new_ej], ignore_index=True)\n",
    "out.to_csv('/home/cjtu/projects/essi21/data/210624/cannon00000/ej_thickness_squashed.csv')"
   ]
  },
  {
   "cell_type": "code",
   "execution_count": 3,
   "metadata": {},
   "outputs": [
    {
     "output_type": "stream",
     "name": "stdout",
     "text": [
      "84432.50510944115 8427.484384640939\n484 392 2\n84000.0 8000.0\nnan 0.0\n"
     ]
    }
   ],
   "source": [
    "grd_x =  mm._GRD_X\n",
    "grd_y =  mm._GRD_Y\n",
    "cx, cy = df.loc['Faustini', ['x', 'y']]\n",
    "ci = np.where(df.index == 'Faustini')[0][0]\n",
    "c_dist = dist[:, :, ci]\n",
    "c_thick = thickness[:, :, ci]\n",
    "\n",
    "cxi, cyi = mm.get_grd_ind(cx, cy, grd_x, grd_y)\n",
    "cdist = mm.grid_interp(cx, cy, c_dist)\n",
    "cthick = mm.grid_interp(cx, cy, c_thick)\n",
    "print(cx, cy)\n",
    "print(cxi, cyi, ci)\n",
    "print(grd_x[0, cxi], grd_y[cyi, 0])\n",
    "print(cdist, cthick)"
   ]
  },
  {
   "cell_type": "code",
   "execution_count": 4,
   "metadata": {},
   "outputs": [
    {
     "output_type": "stream",
     "name": "stdout",
     "text": [
      "113260.28852133433 1.472943092159688\n"
     ]
    }
   ],
   "source": [
    "hx, hy = df.loc['Haworth', ['x', 'y']]\n",
    "hdist = mm.grid_interp(hx, hy, c_dist)\n",
    "hthick = mm.grid_interp(hx, hy, c_thick)\n",
    "print(hdist, hthick)"
   ]
  },
  {
   "cell_type": "code",
   "execution_count": 5,
   "metadata": {},
   "outputs": [],
   "source": [
    "def grid_interp(x, y, grdvalues, grd_x=mm._GRD_X, grd_y=mm._GRD_Y):\n",
    "    \"\"\"Return ejecta thickness at (x, y) in ejecta_thickness 2D grid.\"\"\"\n",
    "    ix, iy = mm.get_grd_ind(x, y, grd_x, grd_y)\n",
    "    gx, gy = grd_x.flatten(), grd_y.flatten()\n",
    "\n",
    "    dy = (y - gy[iy]) / (gy[iy + 1] - gy[iy])\n",
    "    interp_y = (1 - dy) * grdvalues[iy] + dy * grdvalues[iy + 1]\n",
    "\n",
    "    dx = (x - gx[ix]) / (gx[ix + 1] - gx[ix])\n",
    "    interp = (1 - dx) * interp_y[ix] + dx * interp_y[ix + 1]\n",
    "    return interp"
   ]
  },
  {
   "cell_type": "code",
   "execution_count": 6,
   "metadata": {},
   "outputs": [
    {
     "output_type": "stream",
     "name": "stdout",
     "text": [
      "[[       nan        nan        nan        nan]\n [ 59815.996        nan        nan        nan]\n [113282.875  53466.875        nan        nan]\n [183806.84  128677.336  84923.           nan]]\n[('Haworth', nan), ('Shoemaker', 59815.996), ('Faustini', 113282.875), ('Amundsen', 183806.84)]\n"
     ]
    }
   ],
   "source": [
    "df = mm.read_crater_list()\n",
    "def get_crater_distances(df):\n",
    "    \"\"\"\n",
    "    Return 2D array of great circle dist between all craters in df.\n",
    "    \"\"\"\n",
    "    out = np.zeros((len(df), len(df)), dtype=mm._DTYPEF)\n",
    "    for i in range(len(df)):\n",
    "        for j in range(i):\n",
    "            d = mm.gc_dist(*df.iloc[i][['lon', 'lat']], *df.iloc[j][['lon', 'lat']])\n",
    "            out[i, j] = d\n",
    "    return out\n",
    "d = mm.get_crater_distances(df.iloc[:4])\n",
    "print(d)\n",
    "print(list(zip(df.cname.values, d[:,0])))"
   ]
  },
  {
   "cell_type": "code",
   "execution_count": 16,
   "metadata": {},
   "outputs": [],
   "source": [
    "ej_thick_matrix = mm.get_ejecta_thickness_matrix(df, ej_distances)"
   ]
  },
  {
   "cell_type": "code",
   "execution_count": 25,
   "metadata": {},
   "outputs": [],
   "source": [
    "time_arr = mm._TIME_ARR\n",
    "ej_distances = mm.get_crater_distances(df, True)\n",
    "rad = df.rad.values[:, np.newaxis]\n",
    "ej_thick = mm.get_ejecta_thickness(ej_distances, rad)\n",
    "time_idx = np.searchsorted(-time_arr, -df.age.values)\n",
    "ny, nx = ej_thick.shape[:2]\n",
    "ej_thick_time2 = np.zeros((len(time_arr), len(time_idx)), dtype=mm._DTYPE)\n",
    "for i, t_idx in enumerate(time_idx):\n",
    "    ej_thick_time2[t_idx, :] += ej_thick[:, i]\n",
    "            # ej_thick_time[time_idx, i] += ej_thick[i, j]"
   ]
  },
  {
   "cell_type": "code",
   "execution_count": 34,
   "metadata": {},
   "outputs": [
    {
     "output_type": "execute_result",
     "data": {
      "text/plain": [
       "(array([ 0,  1,  2,  3,  5,  6,  8, 14, 21, 22]),)"
      ]
     },
     "metadata": {},
     "execution_count": 34
    }
   ],
   "source": [
    "np.where(df.cname.isin(mm.COLD_TRAP_CRATERS))"
   ]
  },
  {
   "cell_type": "code",
   "execution_count": 24,
   "metadata": {},
   "outputs": [],
   "source": [
    "time_arr = mm._TIME_ARR\n",
    "ej_distances = mm.get_crater_distances(df, True)\n",
    "rad = df.rad.values\n",
    "ej_thick = mm.get_ejecta_thickness(ej_distances, rad)\n",
    "time_idx = np.searchsorted(-time_arr, -df.age.values)\n",
    "ny, nx = ej_thick.shape[:2]\n",
    "ej_thick_time = np.zeros((len(time_arr), len(time_idx)), dtype=mm._DTYPE)\n",
    "for i, t_idx in enumerate(time_idx):\n",
    "    ej_thick_time[t_idx, :] += ej_thick[:, i]\n",
    "            # ej_thick_time[time_idx, i] += ej_thick[i, j]"
   ]
  },
  {
   "cell_type": "code",
   "execution_count": 8,
   "metadata": {},
   "outputs": [],
   "source": [
    "ej_thick2 = np.zeros((len(time_arr), len(time_idx)), dtype=mm._DTYPE)\n",
    "i_idx = np.arange(len(time_idx))\n",
    "ej_thick2[time_idx, :] += ej_thick[:, i_idx]\n",
    "# r = df.rad.values\n",
    "# print(list(zip(df.cname.values, mm.get_ejecta_thickness(d, r)[:,0])))\n",
    "# len(time_idx)"
   ]
  },
  {
   "cell_type": "code",
   "execution_count": 26,
   "metadata": {},
   "outputs": [
    {
     "output_type": "error",
     "ename": "AssertionError",
     "evalue": "\nArrays are not equal\n\nMismatched elements: 280 / 10200 (2.75%)\nMax absolute difference: 610.3255\nMax relative difference: 34.96499\n x: array([[0., 0., 0., ..., 0., 0., 0.],\n       [0., 0., 0., ..., 0., 0., 0.],\n       [0., 0., 0., ..., 0., 0., 0.],...\n y: array([[0., 0., 0., ..., 0., 0., 0.],\n       [0., 0., 0., ..., 0., 0., 0.],\n       [0., 0., 0., ..., 0., 0., 0.],...",
     "traceback": [
      "\u001b[0;31m---------------------------------------------------------------------------\u001b[0m",
      "\u001b[0;31mAssertionError\u001b[0m                            Traceback (most recent call last)",
      "\u001b[0;32m<ipython-input-26-e34098842381>\u001b[0m in \u001b[0;36m<module>\u001b[0;34m\u001b[0m\n\u001b[0;32m----> 1\u001b[0;31m \u001b[0mnp\u001b[0m\u001b[0;34m.\u001b[0m\u001b[0mtesting\u001b[0m\u001b[0;34m.\u001b[0m\u001b[0massert_array_equal\u001b[0m\u001b[0;34m(\u001b[0m\u001b[0mej_thick_time\u001b[0m\u001b[0;34m,\u001b[0m \u001b[0mej_thick_time2\u001b[0m\u001b[0;34m)\u001b[0m\u001b[0;34m\u001b[0m\u001b[0;34m\u001b[0m\u001b[0m\n\u001b[0m",
      "    \u001b[0;31m[... skipping hidden 1 frame]\u001b[0m\n",
      "\u001b[0;32m~/projects/essi21/.venv/lib/python3.8/site-packages/numpy/testing/_private/utils.py\u001b[0m in \u001b[0;36massert_array_compare\u001b[0;34m(comparison, x, y, err_msg, verbose, header, precision, equal_nan, equal_inf)\u001b[0m\n\u001b[1;32m    840\u001b[0m                                 \u001b[0mverbose\u001b[0m\u001b[0;34m=\u001b[0m\u001b[0mverbose\u001b[0m\u001b[0;34m,\u001b[0m \u001b[0mheader\u001b[0m\u001b[0;34m=\u001b[0m\u001b[0mheader\u001b[0m\u001b[0;34m,\u001b[0m\u001b[0;34m\u001b[0m\u001b[0;34m\u001b[0m\u001b[0m\n\u001b[1;32m    841\u001b[0m                                 names=('x', 'y'), precision=precision)\n\u001b[0;32m--> 842\u001b[0;31m             \u001b[0;32mraise\u001b[0m \u001b[0mAssertionError\u001b[0m\u001b[0;34m(\u001b[0m\u001b[0mmsg\u001b[0m\u001b[0;34m)\u001b[0m\u001b[0;34m\u001b[0m\u001b[0;34m\u001b[0m\u001b[0m\n\u001b[0m\u001b[1;32m    843\u001b[0m     \u001b[0;32mexcept\u001b[0m \u001b[0mValueError\u001b[0m\u001b[0;34m:\u001b[0m\u001b[0;34m\u001b[0m\u001b[0;34m\u001b[0m\u001b[0m\n\u001b[1;32m    844\u001b[0m         \u001b[0;32mimport\u001b[0m \u001b[0mtraceback\u001b[0m\u001b[0;34m\u001b[0m\u001b[0;34m\u001b[0m\u001b[0m\n",
      "\u001b[0;31mAssertionError\u001b[0m: \nArrays are not equal\n\nMismatched elements: 280 / 10200 (2.75%)\nMax absolute difference: 610.3255\nMax relative difference: 34.96499\n x: array([[0., 0., 0., ..., 0., 0., 0.],\n       [0., 0., 0., ..., 0., 0., 0.],\n       [0., 0., 0., ..., 0., 0., 0.],...\n y: array([[0., 0., 0., ..., 0., 0., 0.],\n       [0., 0., 0., ..., 0., 0., 0.],\n       [0., 0., 0., ..., 0., 0., 0.],..."
     ]
    }
   ],
   "source": [
    "np.testing.assert_array_equal(ej_thick_time, ej_thick_time2)"
   ]
  },
  {
   "cell_type": "code",
   "execution_count": 41,
   "metadata": {},
   "outputs": [
    {
     "output_type": "execute_result",
     "data": {
      "text/plain": [
       "array([        nan, 20.96124999,  1.47216912,  9.58291595, 65.3848693 ,\n",
       "        1.05698854, 17.14572192,  0.99747627,  0.42675695,  1.0518162 ,\n",
       "       12.31031549,  9.3396016 ,  0.6378449 ,  2.35493715,  5.49103836,\n",
       "        0.13963879,  1.00796395,  0.10840974,  0.2664189 ,  1.44916295,\n",
       "        0.35874482,  1.20474503,  2.97617481,  0.12375152])"
      ]
     },
     "metadata": {},
     "execution_count": 41
    }
   ],
   "source": [
    "ej_thick[:, 0]"
   ]
  },
  {
   "cell_type": "code",
   "execution_count": 19,
   "metadata": {},
   "outputs": [],
   "source": [
    "np.testing.assert_array_almost_equal(ej_thick_matrix, ej_thick_time)"
   ]
  },
  {
   "cell_type": "code",
   "execution_count": 17,
   "metadata": {},
   "outputs": [
    {
     "output_type": "execute_result",
     "data": {
      "text/plain": [
       "      Haworth  Shoemaker   Faustini   Amundsen     Cabeus  Cabeus B  \\\n",
       "0    0.000000   0.000000   0.000000   0.000000   0.000000  0.000000   \n",
       "1    0.000000   0.000000   0.000000   0.000000   0.000000  0.000000   \n",
       "2    0.000000   0.000000   0.000000   0.000000   0.000000  0.000000   \n",
       "3    0.000000   0.000000   0.000000   0.000000   0.000000  0.000000   \n",
       "4    0.000000   0.000000   0.000000   0.000000   0.000000  0.000000   \n",
       "5    0.000000   0.000000   0.000000   0.000000   0.000000  0.000000   \n",
       "6    0.000000   0.000000   0.000000   0.000000   0.000000  0.000000   \n",
       "7    0.000000   0.000000   0.000000   0.000000   0.000000  0.000000   \n",
       "8    0.000000  20.961250   1.472169   9.582916  65.384872  1.056989   \n",
       "9    0.000000   0.000000   0.000000   0.000000   0.000000  0.000000   \n",
       "10   0.000000   0.000000   0.000000   0.000000   0.000000  0.000000   \n",
       "11  20.362259   0.000000  14.002193  27.930359  15.355556  0.482928   \n",
       "12   0.000000   0.000000   0.000000   0.000000   0.000000  0.000000   \n",
       "13   0.000000   0.000000   0.000000   0.000000   0.000000  0.000000   \n",
       "14   0.000000   0.000000   0.000000   0.000000   0.000000  0.000000   \n",
       "15   0.000000   0.000000   0.000000   0.000000   0.000000  0.000000   \n",
       "16   2.997679  29.350452   0.000000  97.164299   6.272039  0.273688   \n",
       "\n",
       "    de Gerlache  Hedervari  Idel'son L  Unnamed 1  ...  Sverdrup  Wiechert P  \\\n",
       "0      0.000000   0.000000    0.000000   0.000000  ...  0.000000    0.000000   \n",
       "1      0.000000   0.000000    0.000000   0.000000  ...  0.000000    0.000000   \n",
       "2      0.000000   0.000000    0.000000   0.000000  ...  0.000000    0.000000   \n",
       "3      0.000000   0.000000    0.000000   0.000000  ...  0.000000    0.000000   \n",
       "4      0.000000   0.000000    0.000000   0.000000  ...  0.000000    0.000000   \n",
       "5      0.000000   0.000000    0.000000   0.000000  ...  0.000000    0.000000   \n",
       "6      0.000000   0.000000    0.000000   0.000000  ...  0.000000    0.000000   \n",
       "7      0.000000   0.000000    0.000000   0.000000  ...  0.000000    0.000000   \n",
       "8     17.145721   0.997476    0.426757   1.051816  ...  5.491038    0.139639   \n",
       "9      0.000000   0.000000    0.000000   0.000000  ...  0.000000    0.000000   \n",
       "10     0.000000   0.000000    0.000000   0.000000  ...  0.000000    0.000000   \n",
       "11    11.644230   1.999612    1.026701   2.449984  ...  8.129795    0.286418   \n",
       "12     0.000000   0.000000    0.000000   0.000000  ...  0.000000    0.000000   \n",
       "13     0.000000   0.000000    0.000000   0.000000  ...  0.000000    0.000000   \n",
       "14     0.000000   0.000000    0.000000   0.000000  ...  0.000000    0.000000   \n",
       "15     0.000000   0.000000    0.000000   0.000000  ...  0.000000    0.000000   \n",
       "16     4.541850   4.123507    2.995178   4.877360  ...  5.778991    0.543886   \n",
       "\n",
       "    Unnamed 2  Wiechert  Idel'son  Unnamed 3  Wiechert U  Wiechert J  \\\n",
       "0    0.000000  0.000000  0.000000   0.000000    0.000000    0.000000   \n",
       "1    0.000000  0.000000  0.000000   0.000000    0.000000    0.000000   \n",
       "2    0.000000  0.000000  0.000000   0.000000    0.000000    0.000000   \n",
       "3    0.000000  0.000000  0.000000   0.000000    0.000000    0.000000   \n",
       "4    0.000000  0.000000  0.000000   0.000000    0.000000    0.000000   \n",
       "5    0.000000  0.000000  0.000000   0.000000    0.000000    0.000000   \n",
       "6    0.000000  0.000000  0.000000   0.000000    0.000000    0.000000   \n",
       "7    0.000000  0.000000  0.000000   0.000000    0.000000    0.000000   \n",
       "8    1.007964  0.108410  0.266419   1.449163    0.358745    1.204745   \n",
       "9    0.000000  0.000000  0.000000   0.000000    0.000000    0.000000   \n",
       "10   0.000000  0.000000  0.000000   0.000000    0.000000    0.000000   \n",
       "11   0.634353  0.183272  0.510858   0.429514    0.662257    1.850109   \n",
       "12   0.000000  0.000000  0.000000   0.000000    0.000000    0.000000   \n",
       "13   0.000000  0.000000  0.000000   0.000000    0.000000    0.000000   \n",
       "14   0.000000  0.000000  0.000000   0.000000    0.000000    0.000000   \n",
       "15   0.000000  0.000000  0.000000   0.000000    0.000000    0.000000   \n",
       "16   0.382716  0.279171  1.062570   0.193347    1.198717    2.284199   \n",
       "\n",
       "    Shackleton  Amundsen C  \n",
       "0     0.000000    0.000000  \n",
       "1     0.000000    0.000000  \n",
       "2     0.000000    0.000000  \n",
       "3     0.000000    0.000000  \n",
       "4     0.000000    0.000000  \n",
       "5     0.000000    0.000000  \n",
       "6     0.000000    0.000000  \n",
       "7     0.000000    0.000000  \n",
       "8     2.976175    0.123752  \n",
       "9     0.000000    0.000000  \n",
       "10    0.000000    0.000000  \n",
       "11    8.850151    0.225051  \n",
       "12    0.000000    0.000000  \n",
       "13    0.000000    0.000000  \n",
       "14    0.000000    0.000000  \n",
       "15    0.000000    0.000000  \n",
       "16    3.414845    0.410769  \n",
       "\n",
       "[17 rows x 24 columns]"
      ],
      "text/html": "<div>\n<style scoped>\n    .dataframe tbody tr th:only-of-type {\n        vertical-align: middle;\n    }\n\n    .dataframe tbody tr th {\n        vertical-align: top;\n    }\n\n    .dataframe thead th {\n        text-align: right;\n    }\n</style>\n<table border=\"1\" class=\"dataframe\">\n  <thead>\n    <tr style=\"text-align: right;\">\n      <th></th>\n      <th>Haworth</th>\n      <th>Shoemaker</th>\n      <th>Faustini</th>\n      <th>Amundsen</th>\n      <th>Cabeus</th>\n      <th>Cabeus B</th>\n      <th>de Gerlache</th>\n      <th>Hedervari</th>\n      <th>Idel'son L</th>\n      <th>Unnamed 1</th>\n      <th>...</th>\n      <th>Sverdrup</th>\n      <th>Wiechert P</th>\n      <th>Unnamed 2</th>\n      <th>Wiechert</th>\n      <th>Idel'son</th>\n      <th>Unnamed 3</th>\n      <th>Wiechert U</th>\n      <th>Wiechert J</th>\n      <th>Shackleton</th>\n      <th>Amundsen C</th>\n    </tr>\n  </thead>\n  <tbody>\n    <tr>\n      <th>0</th>\n      <td>0.000000</td>\n      <td>0.000000</td>\n      <td>0.000000</td>\n      <td>0.000000</td>\n      <td>0.000000</td>\n      <td>0.000000</td>\n      <td>0.000000</td>\n      <td>0.000000</td>\n      <td>0.000000</td>\n      <td>0.000000</td>\n      <td>...</td>\n      <td>0.000000</td>\n      <td>0.000000</td>\n      <td>0.000000</td>\n      <td>0.000000</td>\n      <td>0.000000</td>\n      <td>0.000000</td>\n      <td>0.000000</td>\n      <td>0.000000</td>\n      <td>0.000000</td>\n      <td>0.000000</td>\n    </tr>\n    <tr>\n      <th>1</th>\n      <td>0.000000</td>\n      <td>0.000000</td>\n      <td>0.000000</td>\n      <td>0.000000</td>\n      <td>0.000000</td>\n      <td>0.000000</td>\n      <td>0.000000</td>\n      <td>0.000000</td>\n      <td>0.000000</td>\n      <td>0.000000</td>\n      <td>...</td>\n      <td>0.000000</td>\n      <td>0.000000</td>\n      <td>0.000000</td>\n      <td>0.000000</td>\n      <td>0.000000</td>\n      <td>0.000000</td>\n      <td>0.000000</td>\n      <td>0.000000</td>\n      <td>0.000000</td>\n      <td>0.000000</td>\n    </tr>\n    <tr>\n      <th>2</th>\n      <td>0.000000</td>\n      <td>0.000000</td>\n      <td>0.000000</td>\n      <td>0.000000</td>\n      <td>0.000000</td>\n      <td>0.000000</td>\n      <td>0.000000</td>\n      <td>0.000000</td>\n      <td>0.000000</td>\n      <td>0.000000</td>\n      <td>...</td>\n      <td>0.000000</td>\n      <td>0.000000</td>\n      <td>0.000000</td>\n      <td>0.000000</td>\n      <td>0.000000</td>\n      <td>0.000000</td>\n      <td>0.000000</td>\n      <td>0.000000</td>\n      <td>0.000000</td>\n      <td>0.000000</td>\n    </tr>\n    <tr>\n      <th>3</th>\n      <td>0.000000</td>\n      <td>0.000000</td>\n      <td>0.000000</td>\n      <td>0.000000</td>\n      <td>0.000000</td>\n      <td>0.000000</td>\n      <td>0.000000</td>\n      <td>0.000000</td>\n      <td>0.000000</td>\n      <td>0.000000</td>\n      <td>...</td>\n      <td>0.000000</td>\n      <td>0.000000</td>\n      <td>0.000000</td>\n      <td>0.000000</td>\n      <td>0.000000</td>\n      <td>0.000000</td>\n      <td>0.000000</td>\n      <td>0.000000</td>\n      <td>0.000000</td>\n      <td>0.000000</td>\n    </tr>\n    <tr>\n      <th>4</th>\n      <td>0.000000</td>\n      <td>0.000000</td>\n      <td>0.000000</td>\n      <td>0.000000</td>\n      <td>0.000000</td>\n      <td>0.000000</td>\n      <td>0.000000</td>\n      <td>0.000000</td>\n      <td>0.000000</td>\n      <td>0.000000</td>\n      <td>...</td>\n      <td>0.000000</td>\n      <td>0.000000</td>\n      <td>0.000000</td>\n      <td>0.000000</td>\n      <td>0.000000</td>\n      <td>0.000000</td>\n      <td>0.000000</td>\n      <td>0.000000</td>\n      <td>0.000000</td>\n      <td>0.000000</td>\n    </tr>\n    <tr>\n      <th>5</th>\n      <td>0.000000</td>\n      <td>0.000000</td>\n      <td>0.000000</td>\n      <td>0.000000</td>\n      <td>0.000000</td>\n      <td>0.000000</td>\n      <td>0.000000</td>\n      <td>0.000000</td>\n      <td>0.000000</td>\n      <td>0.000000</td>\n      <td>...</td>\n      <td>0.000000</td>\n      <td>0.000000</td>\n      <td>0.000000</td>\n      <td>0.000000</td>\n      <td>0.000000</td>\n      <td>0.000000</td>\n      <td>0.000000</td>\n      <td>0.000000</td>\n      <td>0.000000</td>\n      <td>0.000000</td>\n    </tr>\n    <tr>\n      <th>6</th>\n      <td>0.000000</td>\n      <td>0.000000</td>\n      <td>0.000000</td>\n      <td>0.000000</td>\n      <td>0.000000</td>\n      <td>0.000000</td>\n      <td>0.000000</td>\n      <td>0.000000</td>\n      <td>0.000000</td>\n      <td>0.000000</td>\n      <td>...</td>\n      <td>0.000000</td>\n      <td>0.000000</td>\n      <td>0.000000</td>\n      <td>0.000000</td>\n      <td>0.000000</td>\n      <td>0.000000</td>\n      <td>0.000000</td>\n      <td>0.000000</td>\n      <td>0.000000</td>\n      <td>0.000000</td>\n    </tr>\n    <tr>\n      <th>7</th>\n      <td>0.000000</td>\n      <td>0.000000</td>\n      <td>0.000000</td>\n      <td>0.000000</td>\n      <td>0.000000</td>\n      <td>0.000000</td>\n      <td>0.000000</td>\n      <td>0.000000</td>\n      <td>0.000000</td>\n      <td>0.000000</td>\n      <td>...</td>\n      <td>0.000000</td>\n      <td>0.000000</td>\n      <td>0.000000</td>\n      <td>0.000000</td>\n      <td>0.000000</td>\n      <td>0.000000</td>\n      <td>0.000000</td>\n      <td>0.000000</td>\n      <td>0.000000</td>\n      <td>0.000000</td>\n    </tr>\n    <tr>\n      <th>8</th>\n      <td>0.000000</td>\n      <td>20.961250</td>\n      <td>1.472169</td>\n      <td>9.582916</td>\n      <td>65.384872</td>\n      <td>1.056989</td>\n      <td>17.145721</td>\n      <td>0.997476</td>\n      <td>0.426757</td>\n      <td>1.051816</td>\n      <td>...</td>\n      <td>5.491038</td>\n      <td>0.139639</td>\n      <td>1.007964</td>\n      <td>0.108410</td>\n      <td>0.266419</td>\n      <td>1.449163</td>\n      <td>0.358745</td>\n      <td>1.204745</td>\n      <td>2.976175</td>\n      <td>0.123752</td>\n    </tr>\n    <tr>\n      <th>9</th>\n      <td>0.000000</td>\n      <td>0.000000</td>\n      <td>0.000000</td>\n      <td>0.000000</td>\n      <td>0.000000</td>\n      <td>0.000000</td>\n      <td>0.000000</td>\n      <td>0.000000</td>\n      <td>0.000000</td>\n      <td>0.000000</td>\n      <td>...</td>\n      <td>0.000000</td>\n      <td>0.000000</td>\n      <td>0.000000</td>\n      <td>0.000000</td>\n      <td>0.000000</td>\n      <td>0.000000</td>\n      <td>0.000000</td>\n      <td>0.000000</td>\n      <td>0.000000</td>\n      <td>0.000000</td>\n    </tr>\n    <tr>\n      <th>10</th>\n      <td>0.000000</td>\n      <td>0.000000</td>\n      <td>0.000000</td>\n      <td>0.000000</td>\n      <td>0.000000</td>\n      <td>0.000000</td>\n      <td>0.000000</td>\n      <td>0.000000</td>\n      <td>0.000000</td>\n      <td>0.000000</td>\n      <td>...</td>\n      <td>0.000000</td>\n      <td>0.000000</td>\n      <td>0.000000</td>\n      <td>0.000000</td>\n      <td>0.000000</td>\n      <td>0.000000</td>\n      <td>0.000000</td>\n      <td>0.000000</td>\n      <td>0.000000</td>\n      <td>0.000000</td>\n    </tr>\n    <tr>\n      <th>11</th>\n      <td>20.362259</td>\n      <td>0.000000</td>\n      <td>14.002193</td>\n      <td>27.930359</td>\n      <td>15.355556</td>\n      <td>0.482928</td>\n      <td>11.644230</td>\n      <td>1.999612</td>\n      <td>1.026701</td>\n      <td>2.449984</td>\n      <td>...</td>\n      <td>8.129795</td>\n      <td>0.286418</td>\n      <td>0.634353</td>\n      <td>0.183272</td>\n      <td>0.510858</td>\n      <td>0.429514</td>\n      <td>0.662257</td>\n      <td>1.850109</td>\n      <td>8.850151</td>\n      <td>0.225051</td>\n    </tr>\n    <tr>\n      <th>12</th>\n      <td>0.000000</td>\n      <td>0.000000</td>\n      <td>0.000000</td>\n      <td>0.000000</td>\n      <td>0.000000</td>\n      <td>0.000000</td>\n      <td>0.000000</td>\n      <td>0.000000</td>\n      <td>0.000000</td>\n      <td>0.000000</td>\n      <td>...</td>\n      <td>0.000000</td>\n      <td>0.000000</td>\n      <td>0.000000</td>\n      <td>0.000000</td>\n      <td>0.000000</td>\n      <td>0.000000</td>\n      <td>0.000000</td>\n      <td>0.000000</td>\n      <td>0.000000</td>\n      <td>0.000000</td>\n    </tr>\n    <tr>\n      <th>13</th>\n      <td>0.000000</td>\n      <td>0.000000</td>\n      <td>0.000000</td>\n      <td>0.000000</td>\n      <td>0.000000</td>\n      <td>0.000000</td>\n      <td>0.000000</td>\n      <td>0.000000</td>\n      <td>0.000000</td>\n      <td>0.000000</td>\n      <td>...</td>\n      <td>0.000000</td>\n      <td>0.000000</td>\n      <td>0.000000</td>\n      <td>0.000000</td>\n      <td>0.000000</td>\n      <td>0.000000</td>\n      <td>0.000000</td>\n      <td>0.000000</td>\n      <td>0.000000</td>\n      <td>0.000000</td>\n    </tr>\n    <tr>\n      <th>14</th>\n      <td>0.000000</td>\n      <td>0.000000</td>\n      <td>0.000000</td>\n      <td>0.000000</td>\n      <td>0.000000</td>\n      <td>0.000000</td>\n      <td>0.000000</td>\n      <td>0.000000</td>\n      <td>0.000000</td>\n      <td>0.000000</td>\n      <td>...</td>\n      <td>0.000000</td>\n      <td>0.000000</td>\n      <td>0.000000</td>\n      <td>0.000000</td>\n      <td>0.000000</td>\n      <td>0.000000</td>\n      <td>0.000000</td>\n      <td>0.000000</td>\n      <td>0.000000</td>\n      <td>0.000000</td>\n    </tr>\n    <tr>\n      <th>15</th>\n      <td>0.000000</td>\n      <td>0.000000</td>\n      <td>0.000000</td>\n      <td>0.000000</td>\n      <td>0.000000</td>\n      <td>0.000000</td>\n      <td>0.000000</td>\n      <td>0.000000</td>\n      <td>0.000000</td>\n      <td>0.000000</td>\n      <td>...</td>\n      <td>0.000000</td>\n      <td>0.000000</td>\n      <td>0.000000</td>\n      <td>0.000000</td>\n      <td>0.000000</td>\n      <td>0.000000</td>\n      <td>0.000000</td>\n      <td>0.000000</td>\n      <td>0.000000</td>\n      <td>0.000000</td>\n    </tr>\n    <tr>\n      <th>16</th>\n      <td>2.997679</td>\n      <td>29.350452</td>\n      <td>0.000000</td>\n      <td>97.164299</td>\n      <td>6.272039</td>\n      <td>0.273688</td>\n      <td>4.541850</td>\n      <td>4.123507</td>\n      <td>2.995178</td>\n      <td>4.877360</td>\n      <td>...</td>\n      <td>5.778991</td>\n      <td>0.543886</td>\n      <td>0.382716</td>\n      <td>0.279171</td>\n      <td>1.062570</td>\n      <td>0.193347</td>\n      <td>1.198717</td>\n      <td>2.284199</td>\n      <td>3.414845</td>\n      <td>0.410769</td>\n    </tr>\n  </tbody>\n</table>\n<p>17 rows × 24 columns</p>\n</div>"
     },
     "metadata": {},
     "execution_count": 17
    }
   ],
   "source": [
    "ejdf = pd.DataFrame(ej_thick_matrix, columns=df.cname.values)\n",
    "ejdf.head(17)"
   ]
  },
  {
   "cell_type": "code",
   "execution_count": null,
   "metadata": {},
   "outputs": [],
   "source": []
  }
 ]
}