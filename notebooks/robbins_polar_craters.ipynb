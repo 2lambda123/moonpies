{
 "cells": [
  {
   "cell_type": "code",
   "execution_count": null,
   "metadata": {},
   "outputs": [],
   "source": [
    "import pandas as pd\n",
    "from moonpies import moonpies as mp\n",
    "\n",
    "# Moonpies crater list\n",
    "cdf = mp.read_crater_list()\n",
    "\n",
    "# Robbins crater database\n",
    "frobbins = '/home/cjtu/projects/moonpies/data/out/lunar_crater_database_robbins_2018.csv'\n",
    "sdf = pd.read_csv(frobbins)\n",
    "sdf.head()"
   ]
  },
  {
   "cell_type": "code",
   "execution_count": null,
   "metadata": {},
   "outputs": [],
   "source": [
    "polar = sdf[sdf.LAT_CIRC_IMG < -84]\n",
    "dmin = cdf.diam.min()\n",
    "dmax = cdf.diam.max()\n",
    "dbins = [1, 2, 4, 20, 300]  # [km]\n",
    "print('Total polar craters: ', len(polar))\n",
    "polar.groupby(pd.cut(polar.DIAM_CIRC_IMG, dbins)).DIAM_CIRC_IMG.count()"
   ]
  },
  {
   "cell_type": "markdown",
   "metadata": {},
   "source": [
    "```\n",
    "5249\n",
    "DIAM_CIRC_IMG\n",
    "(1, 2]       3242\n",
    "(2, 4]       1443\n",
    "(4, 20]       536\n",
    "(20, 300]      28\n",
    "Name: DIAM_CIRC_IMG, dtype: int64\n",
    "```"
   ]
  }
 ],
 "metadata": {
  "language_info": {
   "name": "python"
  },
  "orig_nbformat": 4
 },
 "nbformat": 4,
 "nbformat_minor": 2
}
