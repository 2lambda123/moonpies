{
 "metadata": {
  "language_info": {
   "codemirror_mode": {
    "name": "ipython",
    "version": 3
   },
   "file_extension": ".py",
   "mimetype": "text/x-python",
   "name": "python",
   "nbconvert_exporter": "python",
   "pygments_lexer": "ipython3",
   "version": "3.7.7"
  },
  "orig_nbformat": 2,
  "kernelspec": {
   "name": "pythonjvsc74a57bd0d9afe89ddb98142d2c30cf55b42eca842a8b304b7ca5a6264ac7da67dca0e356",
   "display_name": "Python 3.7.7 64-bit ('.venv': poetry)"
  },
  "metadata": {
   "interpreter": {
    "hash": "d9afe89ddb98142d2c30cf55b42eca842a8b304b7ca5a6264ac7da67dca0e356"
   }
  }
 },
 "nbformat": 4,
 "nbformat_minor": 2,
 "cells": [
  {
   "cell_type": "code",
   "execution_count": 32,
   "metadata": {},
   "outputs": [
    {
     "output_type": "execute_result",
     "data": {
      "text/plain": [
       "        name   lat    lon   diam   age  age_low  age_upp\n",
       "0    Haworth -87.5  354.8   51.4  4.18     0.02     0.02\n",
       "1  Shoemaker -88.1   45.9   51.8  4.15     0.02     0.02\n",
       "2   Faustini -87.2   84.3   42.5  4.10     0.03     0.03\n",
       "3   Amundsen -84.4   83.1  103.4  3.90     0.10     0.10\n",
       "4     Cabeus -85.3  317.9  100.6  3.88     0.10     0.10"
      ],
      "text/html": "<div>\n<style scoped>\n    .dataframe tbody tr th:only-of-type {\n        vertical-align: middle;\n    }\n\n    .dataframe tbody tr th {\n        vertical-align: top;\n    }\n\n    .dataframe thead th {\n        text-align: right;\n    }\n</style>\n<table border=\"1\" class=\"dataframe\">\n  <thead>\n    <tr style=\"text-align: right;\">\n      <th></th>\n      <th>name</th>\n      <th>lat</th>\n      <th>lon</th>\n      <th>diam</th>\n      <th>age</th>\n      <th>age_low</th>\n      <th>age_upp</th>\n    </tr>\n  </thead>\n  <tbody>\n    <tr>\n      <th>0</th>\n      <td>Haworth</td>\n      <td>-87.5</td>\n      <td>354.8</td>\n      <td>51.4</td>\n      <td>4.18</td>\n      <td>0.02</td>\n      <td>0.02</td>\n    </tr>\n    <tr>\n      <th>1</th>\n      <td>Shoemaker</td>\n      <td>-88.1</td>\n      <td>45.9</td>\n      <td>51.8</td>\n      <td>4.15</td>\n      <td>0.02</td>\n      <td>0.02</td>\n    </tr>\n    <tr>\n      <th>2</th>\n      <td>Faustini</td>\n      <td>-87.2</td>\n      <td>84.3</td>\n      <td>42.5</td>\n      <td>4.10</td>\n      <td>0.03</td>\n      <td>0.03</td>\n    </tr>\n    <tr>\n      <th>3</th>\n      <td>Amundsen</td>\n      <td>-84.4</td>\n      <td>83.1</td>\n      <td>103.4</td>\n      <td>3.90</td>\n      <td>0.10</td>\n      <td>0.10</td>\n    </tr>\n    <tr>\n      <th>4</th>\n      <td>Cabeus</td>\n      <td>-85.3</td>\n      <td>317.9</td>\n      <td>100.6</td>\n      <td>3.88</td>\n      <td>0.10</td>\n      <td>0.10</td>\n    </tr>\n  </tbody>\n</table>\n</div>"
     },
     "metadata": {},
     "execution_count": 32
    }
   ],
   "source": [
    "import numpy as np\n",
    "import pandas as pd\n",
    "import matplotlib.pyplot as plt\n",
    "\n",
    "# Constants\n",
    "f24 = False\n",
    "pct_area = 1.30e4\n",
    "hop_efficiency = 0.054  # From modified Kloos model with Hayne area - Cannon 2020\n",
    "timesteps = np.arange(425)[::-1] * 0.01  # Gyr, each step is 10 Myr\n",
    "\n",
    "# Read in Cannon 2020 crater list\n",
    "fcraters = '~/projects/ESSI_2021/data/cannon2020_crater_ages.csv'\n",
    "cols = ('name', 'lat', 'lon', 'diam', 'age', 'age_low', 'age_upp')\n",
    "df = pd.read_csv(fcraters, names=cols, header=0)\n",
    "df.head()"
   ]
  },
  {
   "cell_type": "code",
   "execution_count": 45,
   "metadata": {},
   "outputs": [],
   "source": [
    "# def ice_strat_model_cannon_2020(xy_cells, run_num, ejS, row, col):\n",
    "run_num = row = col = 0\n",
    "def mapAge(*args):\n",
    "    return np.ones((nxy, nxy))\n",
    "\n",
    "def ejS(n):\n",
    "    return np.zeros((nxy, nxy))\n",
    "\n",
    "def impact_ice(age, f24):\n",
    "    return age\n",
    "\n",
    "nxy = 801  # \"xy_cells\"\n",
    "x_scale = np.linspace(-400, 400, nxy)\n",
    "erosion_base = 0\n",
    "nt = len(timesteps)\n",
    "\n",
    "strat_ice_vul_x = np.zeros(nt)\n",
    "strat_ice_impact = np.zeros(nt)\n",
    "total_ice = np.zeros(nt)\n",
    "strat_ejecta_matrix = np.zeros((nxy, nxy, nt))\n",
    "total_ejecta_map = np.zeros((nxy, nxy))\n",
    "age_map = np.ones((nxy, nxy)) * 10  # age of youngest crater [Gyr]\n",
    "\n",
    "for t, timestep in enumerate(timesteps):\n",
    "    age = round(timestep, 2)  # redundant?\n",
    "    craters = df[df.age == age]\n",
    "\n",
    "    # Ejecta step\n",
    "    for i, crater in craters.iterrows():\n",
    "        # Ejecta map (need to define ejS)\n",
    "        crater_ejecta_map = ejS(crater)\n",
    "        total_ejecta_map += crater_ejecta_map\n",
    "        strat_ejecta_matrix[:, :, t] += crater_ejecta_map\n",
    "\n",
    "        # Age map\n",
    "        rad = 1000 * crater.age / 2  # [m]\n",
    "        crater_age_map = mapAge(rad, crater.lat, crater.lon, nxy, x_scale, 'S', age)\n",
    "        age_map[crater_age_map < age_map] = crater_age_map[crater_age_map < age_map]\n",
    "\n",
    "    # Mass of Ice from volcanism [kg]\n",
    "    ice_mass_vul_x = 0\n",
    "    if 4 >= age >= 3.01:\n",
    "        ice_mass_vul_x = 1e7*.75*3000*(1000**3)*(10/1e6)*(1e7/1e9)*hop_efficiency\n",
    "    elif 3.01 > age > 2.01:\n",
    "        ice_mass_vul_x = 1e7*.25*3000*(1000**3)*(10/1e6)*(1e7/1e9)*hop_efficiency\n",
    "\n",
    "    strat_ice_vul_x[t] = ice_mass_vul_x\n",
    "    \n",
    "    # Mass of Ice from impacts (define impact_ice) [kg]\n",
    "    ice_mass_impact = impact_ice(age, f24) * hop_efficiency\n",
    "    strat_ice_impact[t] = ice_mass_impact\n",
    "\n",
    "    # Get ice thickness [m]\n",
    "    total_ice_mass = ice_mass_vul_x + ice_mass_impact\n",
    "    total_ice_vol = total_ice_mass / 934  # [m^3]\n",
    "    total_ice[t] = total_ice_vol / (pct_area * 1e3 * 1e3)  # [m]\n",
    "\n",
    "    if strat_ejecta_matrix[row, col, t] > 0.4:\n",
    "        erosion_base = t\n",
    "\n",
    "    layer = t\n",
    "    ice_eroded = 0.1\n",
    "    while ice_eroded > 0 and layer > erosion_base:\n",
    "        if total_ice[layer] >= ice_eroded:\n",
    "            total_ice[layer] = total_ice[t] - ice_eroded\n",
    "            ice_eroded = 0\n",
    "        else:\n",
    "            ice_eroded = ice_eroded - total_ice[layer]\n",
    "            total_ice[layer] = 0\n",
    "            layer -= 1\n",
    "\n",
    "    # return total_ice, df.age.values, age_map, strat_ejecta_matrix\n",
    "\n"
   ]
  }
 ]
}