{
 "cells": [
  {
   "cell_type": "code",
   "execution_count": 6,
   "id": "8cd04499-151d-4890-895c-99b214029afb",
   "metadata": {},
   "outputs": [],
   "source": [
    "import pandas as pd\n",
    "import matplotlib.pyplot as plt\n",
    "import numpy as np"
   ]
  },
  {
   "cell_type": "markdown",
   "id": "3edd42c9-935f-47fb-958c-c4dd3e153471",
   "metadata": {},
   "source": [
    "Sublimation Rate of Water Ice on the Moon: Andreas 2007; 06/14/2021 AM"
   ]
  },
  {
   "cell_type": "code",
   "execution_count": 7,
   "id": "b8889d65-a9c3-4e84-ad61-32433c64495e",
   "metadata": {},
   "outputs": [],
   "source": [
    "#Sublimation Rate of Water Ice on the Moon: Andreas 2007\n",
    "\n",
    "COLDTRAP_AREA = 13e3  # [m^2]\n",
    "COLDTRAP_MAX_TEMP = 120  # [K]\n",
    "temp = COLDTRAP_MAX_TEMP\n",
    "s_yr = 31536000 #Seconds to Year conversion Factor\n",
    "\n",
    "\n",
    "def sublimation_rate_planar(t):\n",
    "    s_vapor_pressure = 0.01 * np.exp(9.550426 - (5723.265/temp) + 3.53068 * np.log(temp) - (0.00728332 * temp))\n",
    "    M_w = 0.018015 #Molecular weight of water, kg/mol\n",
    "    gas_constant =8.31447 #Universal gas constant, J/mol*K\n",
    "    rate = s_vapor_pressure * ((M_w/(2*np.pi*gas_constant*t))**0.5)\n",
    "    return rate  #kg/m^2*s\n",
    "\n",
    "def sublimation_rate_psr(area, t):\n",
    "    sublimation_psr = (sublimation_rate_planar(t)*area)/s_yr\n",
    "    return sublimation_psr "
   ]
  },
  {
   "cell_type": "code",
   "execution_count": null,
   "id": "653991ee-84d8-40d2-a877-947bbe934286",
   "metadata": {},
   "outputs": [],
   "source": []
  }
 ],
 "metadata": {
  "kernelspec": {
   "display_name": "Python 3",
   "language": "python",
   "name": "python3"
  },
  "language_info": {
   "codemirror_mode": {
    "name": "ipython",
    "version": 3
   },
   "file_extension": ".py",
   "mimetype": "text/x-python",
   "name": "python",
   "nbconvert_exporter": "python",
   "pygments_lexer": "ipython3",
   "version": "3.8.10"
  }
 },
 "nbformat": 4,
 "nbformat_minor": 5
}